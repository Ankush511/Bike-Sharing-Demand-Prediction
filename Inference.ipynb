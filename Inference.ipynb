{
 "cells": [
  {
   "cell_type": "code",
   "execution_count": 15,
   "id": "2a0539d5",
   "metadata": {},
   "outputs": [],
   "source": [
    "# import libraries\n",
    "import pickle\n",
    "import os\n",
    "from datetime import datetime\n",
    "import pandas as pd\n",
    "import numpy as np"
   ]
  },
  {
   "cell_type": "code",
   "execution_count": 2,
   "id": "9d078050",
   "metadata": {},
   "outputs": [],
   "source": [
    "model_path = r'/Users/Ankush/Desktop/Data Science/Seoul Bike Sharing Prediction/models/xgboost_regressor_r2_0_95_v1.pkl'\n",
    "\n",
    "model = pickle.load(open(model_path, 'rb'))"
   ]
  },
  {
   "cell_type": "code",
   "execution_count": 3,
   "id": "9532001f",
   "metadata": {},
   "outputs": [
    {
     "data": {
      "text/plain": [
       "[-74.84035, 1304.7858, 1389.761]"
      ]
     },
     "execution_count": 3,
     "metadata": {},
     "output_type": "execute_result"
    }
   ],
   "source": [
    "# making predictions \n",
    "data = [[ 1.07807977,  0.22192612,  0.77468297,  1.82005277, -1.26200749,\n",
    "       -0.25194272, -0.12916836, -0.17535463, -0.22754885, -5.47803337,\n",
    "       -0.64744078, -0.43640293,  0.30459857,  1.74132735, -0.58152447,\n",
    "       -0.57866842, -0.40630934, -0.40916536, -0.4075004 ,  2.46842407,\n",
    "       -0.40081071, -0.41367015],\n",
    "        \n",
    "       [-0.65432992,  1.24504573,  0.23697162, -0.5001855 ,  0.56154562,\n",
    "       -0.28664608, -0.12916836, -0.17535463, -0.22754885,  0.18254726,\n",
    "        0.94701966,  0.14260346,  0.30459857, -0.57427456,  1.71961809,\n",
    "       -0.57866842, -0.40630934, -0.40916536, -0.4075004 , -0.40511677,\n",
    "        2.49494334, -0.41367015],\n",
    "       \n",
    "       [ 0.50060987,  0.98718632, -0.69180254,  2.40011233,  0.92262892,\n",
    "        1.56419996, -0.12916836, -0.17535463, -0.22754885,  0.18254726,\n",
    "       -0.98911087,  0.72160984,  0.30459857, -0.57427456, -0.58152447,\n",
    "       -0.57866842, -0.40630934, -0.40916536, -0.4075004 , -0.40511677,\n",
    "       -0.40081071, -0.41367015]]\n",
    "\n",
    "prediction = model.predict(data)\n",
    "list(prediction)"
   ]
  },
  {
   "cell_type": "markdown",
   "id": "9131ad4a",
   "metadata": {},
   "source": [
    "## Load Standard Scaler (SC)"
   ]
  },
  {
   "cell_type": "code",
   "execution_count": 4,
   "id": "932db92e",
   "metadata": {},
   "outputs": [],
   "source": [
    "sc_dump_path = r'/Users/Ankush/Desktop/Data Science/Seoul Bike Sharing Prediction/models/sc.pkl'\n",
    "\n",
    "sc = pickle.load(open(sc_dump_path, 'rb'))"
   ]
  },
  {
   "cell_type": "code",
   "execution_count": 5,
   "id": "d8de9a8b",
   "metadata": {},
   "outputs": [
    {
     "data": {
      "text/html": [
       "<style>#sk-container-id-1 {color: black;}#sk-container-id-1 pre{padding: 0;}#sk-container-id-1 div.sk-toggleable {background-color: white;}#sk-container-id-1 label.sk-toggleable__label {cursor: pointer;display: block;width: 100%;margin-bottom: 0;padding: 0.3em;box-sizing: border-box;text-align: center;}#sk-container-id-1 label.sk-toggleable__label-arrow:before {content: \"▸\";float: left;margin-right: 0.25em;color: #696969;}#sk-container-id-1 label.sk-toggleable__label-arrow:hover:before {color: black;}#sk-container-id-1 div.sk-estimator:hover label.sk-toggleable__label-arrow:before {color: black;}#sk-container-id-1 div.sk-toggleable__content {max-height: 0;max-width: 0;overflow: hidden;text-align: left;background-color: #f0f8ff;}#sk-container-id-1 div.sk-toggleable__content pre {margin: 0.2em;color: black;border-radius: 0.25em;background-color: #f0f8ff;}#sk-container-id-1 input.sk-toggleable__control:checked~div.sk-toggleable__content {max-height: 200px;max-width: 100%;overflow: auto;}#sk-container-id-1 input.sk-toggleable__control:checked~label.sk-toggleable__label-arrow:before {content: \"▾\";}#sk-container-id-1 div.sk-estimator input.sk-toggleable__control:checked~label.sk-toggleable__label {background-color: #d4ebff;}#sk-container-id-1 div.sk-label input.sk-toggleable__control:checked~label.sk-toggleable__label {background-color: #d4ebff;}#sk-container-id-1 input.sk-hidden--visually {border: 0;clip: rect(1px 1px 1px 1px);clip: rect(1px, 1px, 1px, 1px);height: 1px;margin: -1px;overflow: hidden;padding: 0;position: absolute;width: 1px;}#sk-container-id-1 div.sk-estimator {font-family: monospace;background-color: #f0f8ff;border: 1px dotted black;border-radius: 0.25em;box-sizing: border-box;margin-bottom: 0.5em;}#sk-container-id-1 div.sk-estimator:hover {background-color: #d4ebff;}#sk-container-id-1 div.sk-parallel-item::after {content: \"\";width: 100%;border-bottom: 1px solid gray;flex-grow: 1;}#sk-container-id-1 div.sk-label:hover label.sk-toggleable__label {background-color: #d4ebff;}#sk-container-id-1 div.sk-serial::before {content: \"\";position: absolute;border-left: 1px solid gray;box-sizing: border-box;top: 0;bottom: 0;left: 50%;z-index: 0;}#sk-container-id-1 div.sk-serial {display: flex;flex-direction: column;align-items: center;background-color: white;padding-right: 0.2em;padding-left: 0.2em;position: relative;}#sk-container-id-1 div.sk-item {position: relative;z-index: 1;}#sk-container-id-1 div.sk-parallel {display: flex;align-items: stretch;justify-content: center;background-color: white;position: relative;}#sk-container-id-1 div.sk-item::before, #sk-container-id-1 div.sk-parallel-item::before {content: \"\";position: absolute;border-left: 1px solid gray;box-sizing: border-box;top: 0;bottom: 0;left: 50%;z-index: -1;}#sk-container-id-1 div.sk-parallel-item {display: flex;flex-direction: column;z-index: 1;position: relative;background-color: white;}#sk-container-id-1 div.sk-parallel-item:first-child::after {align-self: flex-end;width: 50%;}#sk-container-id-1 div.sk-parallel-item:last-child::after {align-self: flex-start;width: 50%;}#sk-container-id-1 div.sk-parallel-item:only-child::after {width: 0;}#sk-container-id-1 div.sk-dashed-wrapped {border: 1px dashed gray;margin: 0 0.4em 0.5em 0.4em;box-sizing: border-box;padding-bottom: 0.4em;background-color: white;}#sk-container-id-1 div.sk-label label {font-family: monospace;font-weight: bold;display: inline-block;line-height: 1.2em;}#sk-container-id-1 div.sk-label-container {text-align: center;}#sk-container-id-1 div.sk-container {/* jupyter's `normalize.less` sets `[hidden] { display: none; }` but bootstrap.min.css set `[hidden] { display: none !important; }` so we also need the `!important` here to be able to override the default hidden behavior on the sphinx rendered scikit-learn.org. See: https://github.com/scikit-learn/scikit-learn/issues/21755 */display: inline-block !important;position: relative;}#sk-container-id-1 div.sk-text-repr-fallback {display: none;}</style><div id=\"sk-container-id-1\" class=\"sk-top-container\"><div class=\"sk-text-repr-fallback\"><pre>StandardScaler()</pre><b>In a Jupyter environment, please rerun this cell to show the HTML representation or trust the notebook. <br />On GitHub, the HTML representation is unable to render, please try loading this page with nbviewer.org.</b></div><div class=\"sk-container\" hidden><div class=\"sk-item\"><div class=\"sk-estimator sk-toggleable\"><input class=\"sk-toggleable__control sk-hidden--visually\" id=\"sk-estimator-id-1\" type=\"checkbox\" checked><label for=\"sk-estimator-id-1\" class=\"sk-toggleable__label sk-toggleable__label-arrow\">StandardScaler</label><div class=\"sk-toggleable__content\"><pre>StandardScaler()</pre></div></div></div></div></div>"
      ],
      "text/plain": [
       "StandardScaler()"
      ]
     },
     "execution_count": 5,
     "metadata": {},
     "output_type": "execute_result"
    }
   ],
   "source": [
    "sc"
   ]
  },
  {
   "cell_type": "markdown",
   "id": "f06b0d2c",
   "metadata": {},
   "source": [
    "## User Input - for prediction"
   ]
  },
  {
   "cell_type": "code",
   "execution_count": 78,
   "id": "174172b4",
   "metadata": {},
   "outputs": [],
   "source": [
    "# taking user input \n",
    "Date = '11/05/2024'\n",
    "Hour = 14\n",
    "Temperature = 32\n",
    "Humidity = 45\n",
    "Wind_Speed = 30\n",
    "Visibility = 90\n",
    "Solar_Radiation = 3.0\n",
    "Rainfall = 0.0\n",
    "Snowfall = 0.0\n",
    "Seasons = 'Spring'\n",
    "Holiday = 'No Holiday'\n",
    "Functioning_Day = 'Yes'"
   ]
  },
  {
   "cell_type": "markdown",
   "id": "e6f35ced",
   "metadata": {},
   "source": [
    "## Converting User data into model consumable format"
   ]
  },
  {
   "cell_type": "code",
   "execution_count": 79,
   "id": "282469a7",
   "metadata": {},
   "outputs": [
    {
     "data": {
      "text/plain": [
       "{'day': 11, 'month': 5, 'year': 2024, 'week_day': 'Saturday'}"
      ]
     },
     "execution_count": 79,
     "metadata": {},
     "output_type": "execute_result"
    }
   ],
   "source": [
    "# creating dictionaries and creating function to convert date into day,month,year,week_day\n",
    "holiday_dict = {'No Holiday': 0 ,'Holiday': 1}\n",
    "functioning_day_dict = {'No': 0, 'Yes': 1}\n",
    "\n",
    "def get_string_to_datetime(date):\n",
    "    dt = datetime.strptime(date, '%d/%m/%Y')\n",
    "    return {'day': dt.day, 'month': dt.month, 'year': dt.year, 'week_day': dt.strftime('%A')}\n",
    "\n",
    "str_to_date = get_string_to_datetime(Date)\n",
    "str_to_date"
   ]
  },
  {
   "cell_type": "code",
   "execution_count": 80,
   "id": "3ebdac3c",
   "metadata": {},
   "outputs": [
    {
     "data": {
      "text/html": [
       "<div>\n",
       "<style scoped>\n",
       "    .dataframe tbody tr th:only-of-type {\n",
       "        vertical-align: middle;\n",
       "    }\n",
       "\n",
       "    .dataframe tbody tr th {\n",
       "        vertical-align: top;\n",
       "    }\n",
       "\n",
       "    .dataframe thead th {\n",
       "        text-align: right;\n",
       "    }\n",
       "</style>\n",
       "<table border=\"1\" class=\"dataframe\">\n",
       "  <thead>\n",
       "    <tr style=\"text-align: right;\">\n",
       "      <th></th>\n",
       "      <th>Hour</th>\n",
       "      <th>Temperature(°C)</th>\n",
       "      <th>Humidity(%)</th>\n",
       "      <th>Wind speed (m/s)</th>\n",
       "      <th>Visibility (10m)</th>\n",
       "      <th>Solar Radiation (MJ/m2)</th>\n",
       "      <th>Rainfall(mm)</th>\n",
       "      <th>Snowfall (cm)</th>\n",
       "      <th>Holiday</th>\n",
       "      <th>Functioning Day</th>\n",
       "      <th>Day</th>\n",
       "      <th>Month</th>\n",
       "      <th>Year</th>\n",
       "    </tr>\n",
       "  </thead>\n",
       "  <tbody>\n",
       "    <tr>\n",
       "      <th>0</th>\n",
       "      <td>14</td>\n",
       "      <td>32</td>\n",
       "      <td>45</td>\n",
       "      <td>30</td>\n",
       "      <td>90</td>\n",
       "      <td>3.0</td>\n",
       "      <td>0.0</td>\n",
       "      <td>0.0</td>\n",
       "      <td>0</td>\n",
       "      <td>1</td>\n",
       "      <td>11</td>\n",
       "      <td>5</td>\n",
       "      <td>2024</td>\n",
       "    </tr>\n",
       "  </tbody>\n",
       "</table>\n",
       "</div>"
      ],
      "text/plain": [
       "   Hour  Temperature(°C)  Humidity(%)  Wind speed (m/s)  Visibility (10m)  \\\n",
       "0    14               32           45                30                90   \n",
       "\n",
       "   Solar Radiation (MJ/m2)  Rainfall(mm)  Snowfall (cm)  Holiday  \\\n",
       "0                      3.0           0.0            0.0        0   \n",
       "\n",
       "   Functioning Day  Day  Month  Year  \n",
       "0                1   11      5  2024  "
      ]
     },
     "execution_count": 80,
     "metadata": {},
     "output_type": "execute_result"
    }
   ],
   "source": [
    "# defining the user inputs & creating dataframe \n",
    "u_input_list = [Hour,Temperature,Humidity,Wind_Speed,Visibility,Solar_Radiation,Rainfall,Snowfall,\n",
    "               holiday_dict[Holiday], functioning_day_dict[Functioning_Day], str_to_date['day'], str_to_date['month'],\n",
    "               str_to_date['year']]\n",
    "features_name = ['Hour', 'Temperature(°C)', 'Humidity(%)', 'Wind speed (m/s)', 'Visibility (10m)', 'Solar Radiation (MJ/m2)',\n",
    "       'Rainfall(mm)', 'Snowfall (cm)', 'Holiday', 'Functioning Day', 'Day', 'Month', 'Year']\n",
    "\n",
    "df_u_input = pd.DataFrame([u_input_list], columns=features_name)\n",
    "df_u_input"
   ]
  },
  {
   "cell_type": "code",
   "execution_count": 81,
   "id": "43edd5b2",
   "metadata": {},
   "outputs": [
    {
     "data": {
      "text/html": [
       "<div>\n",
       "<style scoped>\n",
       "    .dataframe tbody tr th:only-of-type {\n",
       "        vertical-align: middle;\n",
       "    }\n",
       "\n",
       "    .dataframe tbody tr th {\n",
       "        vertical-align: top;\n",
       "    }\n",
       "\n",
       "    .dataframe thead th {\n",
       "        text-align: right;\n",
       "    }\n",
       "</style>\n",
       "<table border=\"1\" class=\"dataframe\">\n",
       "  <thead>\n",
       "    <tr style=\"text-align: right;\">\n",
       "      <th></th>\n",
       "      <th>Spring</th>\n",
       "      <th>Summer</th>\n",
       "      <th>Winter</th>\n",
       "    </tr>\n",
       "  </thead>\n",
       "  <tbody>\n",
       "    <tr>\n",
       "      <th>0</th>\n",
       "      <td>1</td>\n",
       "      <td>0</td>\n",
       "      <td>0</td>\n",
       "    </tr>\n",
       "  </tbody>\n",
       "</table>\n",
       "</div>"
      ],
      "text/plain": [
       "   Spring  Summer  Winter\n",
       "0       1       0       0"
      ]
     },
     "execution_count": 81,
     "metadata": {},
     "output_type": "execute_result"
    }
   ],
   "source": [
    "# function to return seasons into encoding\n",
    "def seasons_to_df(Seasons):\n",
    "    seasons_cols = ['Spring', 'Summer', 'Winter']\n",
    "    seasons_data = np.zeros((1, len(seasons_cols)), dtype = 'int')\n",
    "\n",
    "    df_seasons = pd.DataFrame(seasons_data, columns=seasons_cols)\n",
    "\n",
    "    if Seasons in seasons_cols:\n",
    "        df_seasons[Seasons] = 1\n",
    "    return df_seasons\n",
    "\n",
    "seasons_df = seasons_to_df(Seasons)\n",
    "seasons_df"
   ]
  },
  {
   "cell_type": "code",
   "execution_count": 82,
   "id": "d58c3f8c",
   "metadata": {},
   "outputs": [
    {
     "data": {
      "text/html": [
       "<div>\n",
       "<style scoped>\n",
       "    .dataframe tbody tr th:only-of-type {\n",
       "        vertical-align: middle;\n",
       "    }\n",
       "\n",
       "    .dataframe tbody tr th {\n",
       "        vertical-align: top;\n",
       "    }\n",
       "\n",
       "    .dataframe thead th {\n",
       "        text-align: right;\n",
       "    }\n",
       "</style>\n",
       "<table border=\"1\" class=\"dataframe\">\n",
       "  <thead>\n",
       "    <tr style=\"text-align: right;\">\n",
       "      <th></th>\n",
       "      <th>Monday</th>\n",
       "      <th>Saturday</th>\n",
       "      <th>Sunday</th>\n",
       "      <th>Thursday</th>\n",
       "      <th>Tuesday</th>\n",
       "      <th>Wednesday</th>\n",
       "    </tr>\n",
       "  </thead>\n",
       "  <tbody>\n",
       "    <tr>\n",
       "      <th>0</th>\n",
       "      <td>0</td>\n",
       "      <td>1</td>\n",
       "      <td>0</td>\n",
       "      <td>0</td>\n",
       "      <td>0</td>\n",
       "      <td>0</td>\n",
       "    </tr>\n",
       "  </tbody>\n",
       "</table>\n",
       "</div>"
      ],
      "text/plain": [
       "   Monday  Saturday  Sunday  Thursday  Tuesday  Wednesday\n",
       "0       0         1       0         0        0          0"
      ]
     },
     "execution_count": 82,
     "metadata": {},
     "output_type": "execute_result"
    }
   ],
   "source": [
    "# function to return weekdays into enoding\n",
    "def days_to_df(week_day):\n",
    "    days_name = ['Monday', 'Saturday', 'Sunday', 'Thursday', 'Tuesday', 'Wednesday']\n",
    "    days_name_data = np.zeros((1,len(days_name)), dtype='int')\n",
    "    \n",
    "    df_days = pd.DataFrame(days_name_data, columns=days_name)\n",
    "    \n",
    "    if week_day in days_name:\n",
    "        df_days[week_day] = 1\n",
    "    return df_days\n",
    "\n",
    "days_df = days_to_df(str_to_date['week_day'])\n",
    "days_df"
   ]
  },
  {
   "cell_type": "code",
   "execution_count": 83,
   "id": "85510be0",
   "metadata": {},
   "outputs": [
    {
     "data": {
      "text/html": [
       "<div>\n",
       "<style scoped>\n",
       "    .dataframe tbody tr th:only-of-type {\n",
       "        vertical-align: middle;\n",
       "    }\n",
       "\n",
       "    .dataframe tbody tr th {\n",
       "        vertical-align: top;\n",
       "    }\n",
       "\n",
       "    .dataframe thead th {\n",
       "        text-align: right;\n",
       "    }\n",
       "</style>\n",
       "<table border=\"1\" class=\"dataframe\">\n",
       "  <thead>\n",
       "    <tr style=\"text-align: right;\">\n",
       "      <th></th>\n",
       "      <th>Hour</th>\n",
       "      <th>Temperature(°C)</th>\n",
       "      <th>Humidity(%)</th>\n",
       "      <th>Wind speed (m/s)</th>\n",
       "      <th>Visibility (10m)</th>\n",
       "      <th>Solar Radiation (MJ/m2)</th>\n",
       "      <th>Rainfall(mm)</th>\n",
       "      <th>Snowfall (cm)</th>\n",
       "      <th>Holiday</th>\n",
       "      <th>Functioning Day</th>\n",
       "      <th>...</th>\n",
       "      <th>Year</th>\n",
       "      <th>Spring</th>\n",
       "      <th>Summer</th>\n",
       "      <th>Winter</th>\n",
       "      <th>Monday</th>\n",
       "      <th>Saturday</th>\n",
       "      <th>Sunday</th>\n",
       "      <th>Thursday</th>\n",
       "      <th>Tuesday</th>\n",
       "      <th>Wednesday</th>\n",
       "    </tr>\n",
       "  </thead>\n",
       "  <tbody>\n",
       "    <tr>\n",
       "      <th>0</th>\n",
       "      <td>14</td>\n",
       "      <td>32</td>\n",
       "      <td>45</td>\n",
       "      <td>30</td>\n",
       "      <td>90</td>\n",
       "      <td>3.0</td>\n",
       "      <td>0.0</td>\n",
       "      <td>0.0</td>\n",
       "      <td>0</td>\n",
       "      <td>1</td>\n",
       "      <td>...</td>\n",
       "      <td>2024</td>\n",
       "      <td>1</td>\n",
       "      <td>0</td>\n",
       "      <td>0</td>\n",
       "      <td>0</td>\n",
       "      <td>1</td>\n",
       "      <td>0</td>\n",
       "      <td>0</td>\n",
       "      <td>0</td>\n",
       "      <td>0</td>\n",
       "    </tr>\n",
       "  </tbody>\n",
       "</table>\n",
       "<p>1 rows × 22 columns</p>\n",
       "</div>"
      ],
      "text/plain": [
       "   Hour  Temperature(°C)  Humidity(%)  Wind speed (m/s)  Visibility (10m)  \\\n",
       "0    14               32           45                30                90   \n",
       "\n",
       "   Solar Radiation (MJ/m2)  Rainfall(mm)  Snowfall (cm)  Holiday  \\\n",
       "0                      3.0           0.0            0.0        0   \n",
       "\n",
       "   Functioning Day  ...  Year  Spring  Summer  Winter  Monday  Saturday  \\\n",
       "0                1  ...  2024       1       0       0       0         1   \n",
       "\n",
       "   Sunday  Thursday  Tuesday  Wednesday  \n",
       "0       0         0        0          0  \n",
       "\n",
       "[1 rows x 22 columns]"
      ]
     },
     "execution_count": 83,
     "metadata": {},
     "output_type": "execute_result"
    }
   ],
   "source": [
    "df_for_pred = pd.concat([df_u_input, seasons_df, days_df], axis=1)\n",
    "df_for_pred"
   ]
  },
  {
   "cell_type": "code",
   "execution_count": 84,
   "id": "ceac37f8",
   "metadata": {},
   "outputs": [
    {
     "data": {
      "text/plain": [
       "array([[ 0.3562424 ,  1.59440365, -0.64291969, 27.34267366, -2.22654507,\n",
       "         2.81352104, -0.12916836, -0.17535463, -0.22754885,  0.18254726,\n",
       "        -0.53355074, -0.43640293, 21.8302469 ,  1.74132735, -0.58152447,\n",
       "        -0.57866842, -0.40630934,  2.44399966, -0.4075004 , -0.40511677,\n",
       "        -0.40081071, -0.41367015]])"
      ]
     },
     "execution_count": 84,
     "metadata": {},
     "output_type": "execute_result"
    }
   ],
   "source": [
    "# scale the new data\n",
    "sc_data_for_pred = sc.transform(df_for_pred)\n",
    "sc_data_for_pred"
   ]
  },
  {
   "cell_type": "markdown",
   "id": "9dff9c0d",
   "metadata": {},
   "source": [
    "# Prediction in Deployment"
   ]
  },
  {
   "cell_type": "code",
   "execution_count": 85,
   "id": "79029fd3",
   "metadata": {},
   "outputs": [
    {
     "name": "stdout",
     "output_type": "stream",
     "text": [
      "Rented Bike Demand on date: 11/05/2024, and time: 14 is : 1062\n"
     ]
    }
   ],
   "source": [
    "# using our model for prediction\n",
    "print(f'Rented Bike Demand on date: {Date}, and time: {Hour} is : {round(model.predict(sc_data_for_pred).tolist()[0])}')"
   ]
  },
  {
   "cell_type": "code",
   "execution_count": null,
   "id": "3d6813b2",
   "metadata": {},
   "outputs": [],
   "source": []
  }
 ],
 "metadata": {
  "kernelspec": {
   "display_name": "Python 3 (ipykernel)",
   "language": "python",
   "name": "python3"
  },
  "language_info": {
   "codemirror_mode": {
    "name": "ipython",
    "version": 3
   },
   "file_extension": ".py",
   "mimetype": "text/x-python",
   "name": "python",
   "nbconvert_exporter": "python",
   "pygments_lexer": "ipython3",
   "version": "3.11.5"
  }
 },
 "nbformat": 4,
 "nbformat_minor": 5
}
