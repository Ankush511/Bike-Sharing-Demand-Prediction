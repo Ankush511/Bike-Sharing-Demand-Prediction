{
 "cells": [
  {
   "cell_type": "code",
   "execution_count": 1,
   "id": "10981bcd",
   "metadata": {},
   "outputs": [],
   "source": [
    "# import libraries\n",
    "import pickle\n",
    "import os"
   ]
  },
  {
   "cell_type": "code",
   "execution_count": 2,
   "id": "8cc3e6a7",
   "metadata": {},
   "outputs": [],
   "source": [
    "model_path = r'/Users/Ankush/Desktop/Data Science/Seoul Bike Sharing Prediction/models/xgboost_regressor_r2_0_95_v1.pkl'\n",
    "\n",
    "model = pickle.load(open(model_path, 'rb'))"
   ]
  },
  {
   "cell_type": "code",
   "execution_count": 3,
   "id": "0dbf6227",
   "metadata": {},
   "outputs": [
    {
     "data": {
      "text/plain": [
       "[-74.84035, 1304.7858, 1389.761]"
      ]
     },
     "execution_count": 3,
     "metadata": {},
     "output_type": "execute_result"
    }
   ],
   "source": [
    "# making predictions \n",
    "data = [[ 1.07807977,  0.22192612,  0.77468297,  1.82005277, -1.26200749,\n",
    "       -0.25194272, -0.12916836, -0.17535463, -0.22754885, -5.47803337,\n",
    "       -0.64744078, -0.43640293,  0.30459857,  1.74132735, -0.58152447,\n",
    "       -0.57866842, -0.40630934, -0.40916536, -0.4075004 ,  2.46842407,\n",
    "       -0.40081071, -0.41367015],\n",
    "        \n",
    "       [-0.65432992,  1.24504573,  0.23697162, -0.5001855 ,  0.56154562,\n",
    "       -0.28664608, -0.12916836, -0.17535463, -0.22754885,  0.18254726,\n",
    "        0.94701966,  0.14260346,  0.30459857, -0.57427456,  1.71961809,\n",
    "       -0.57866842, -0.40630934, -0.40916536, -0.4075004 , -0.40511677,\n",
    "        2.49494334, -0.41367015],\n",
    "       \n",
    "       [ 0.50060987,  0.98718632, -0.69180254,  2.40011233,  0.92262892,\n",
    "        1.56419996, -0.12916836, -0.17535463, -0.22754885,  0.18254726,\n",
    "       -0.98911087,  0.72160984,  0.30459857, -0.57427456, -0.58152447,\n",
    "       -0.57866842, -0.40630934, -0.40916536, -0.4075004 , -0.40511677,\n",
    "       -0.40081071, -0.41367015]]\n",
    "\n",
    "prediction = model.predict(data)\n",
    "list(prediction)"
   ]
  },
  {
   "cell_type": "code",
   "execution_count": null,
   "id": "229cbc1c",
   "metadata": {},
   "outputs": [],
   "source": []
  }
 ],
 "metadata": {
  "kernelspec": {
   "display_name": "Python 3 (ipykernel)",
   "language": "python",
   "name": "python3"
  },
  "language_info": {
   "codemirror_mode": {
    "name": "ipython",
    "version": 3
   },
   "file_extension": ".py",
   "mimetype": "text/x-python",
   "name": "python",
   "nbconvert_exporter": "python",
   "pygments_lexer": "ipython3",
   "version": "3.11.5"
  }
 },
 "nbformat": 4,
 "nbformat_minor": 5
}
